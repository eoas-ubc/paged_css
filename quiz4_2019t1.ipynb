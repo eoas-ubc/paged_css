{
 "cells": [
  {
   "cell_type": "raw",
   "metadata": {
    "ctype": "-na-"
   },
   "source": [
    "\\pagestyle{headers}"
   ]
  },
  {
   "cell_type": "markdown",
   "metadata": {
    "ctype": "-na-",
    "lines_to_next_cell": 0
   },
   "source": [
    "**EOSC340 Quiz 4, Version A Fall 2019**\n",
    "\n",
    "**Last Name, First Name (PRINT):**\n",
    "\\_\\_\\_\\_\\_\\_\\_\\_\\_\\_\\_\\_\\_\\_\\_\\_\\_\\_\\_\\_\\_\\_\\_\\_\n",
    "\n",
    "**Student Number:** \\_\\_\\_\\_\\_\\_\\_\\_\\_\\_\\_\\_\\_\\_\\_\\_\\_\\_\\_\\_\\_\\_\\_\\_\n",
    "\n",
    "**Signature: \\_\\_\\_\\_\\_\\_\\_\\_\\_\\_\\_\\_\\_\\_\\_\\_\\_\\_\\_\\_\\_\\_\\_\\_**\n",
    "\n",
    "**This is exam packet (A)\n",
    "\n",
    "**Verify that (A) in the “Test Form” column of your bubble sheet has been marked**\n",
    "\n",
    "**Instructions:** You may detach the Bubble sheet (first page) and the Equation Sheet (last page) from this\n",
    "exam package. No notes, books, cellphones or aids are allowed. Calculators are okay. Only answers\n",
    "indicated on the provided Bubble sheet will be marked. You must submit both this “question book” as\n",
    "well as the Bubble sheet before leaving the room.\n",
    "\n",
    "**Course Statistics** Find the HOURS STUDIED area on your Bubble sheet. In the past week, how much\n",
    "time did you spend studying for this exam? Please enter your answer in the HOURS STUDIED area of your\n",
    "Bubble sheet. Round to the nearest hour. If, for example, you spent 2 hours studying, enter 002. If, for\n",
    "example, you spent 14 hours studying, enter 014.\n",
    "\n",
    "**This exam booklet should contains 9 questions.**\n"
   ]
  },
  {
   "cell_type": "raw",
   "metadata": {
    "ctype": "-na-",
    "lines_to_next_cell": 0
   },
   "source": [
    "\\newpage\n"
   ]
  },
  {
   "cell_type": "markdown",
   "metadata": {
    "ctype": "question",
    "lines_to_next_cell": 0,
    "qnum": 1
   },
   "source": [
    "Q1)  The figure below represents the variation in atmospheric\n",
    "     **oxygen** at one location in the **NORTHERN** Hemisphere over the\n",
    "     time period of one year. During which seasons do points “A”\n",
    "     and “B” most likely occur? Choose the **BEST** answer. *Again, note,\n",
    "     this is atmospheric **oxygen.**\n",
    "\n",
    "   (A) “A” is in the spring, “B” is in the fall  \n",
    "   (B) “A” is in the fall, “B” is in the spring  \n",
    "   (C) “A” is in the winter, “B” is in the summer  \n",
    "   (D) “A” is in the summer, “B” is in the winter  \n",
    "   (E) There is not enough information to determine season."
   ]
  },
  {
   "cell_type": "markdown",
   "metadata": {
    "ctype": "answer",
    "key": "A",
    "lines_to_next_cell": 0,
    "qnum": 1
   },
   "source": [
    "Q1 Answer: A -- O$_2$ will be accumulating throughout the summmer months due to photosynthesis, reaching a peak when photosynthesis rates reduce and are balanced by respiration rates. This occurs in the fall."
   ]
  },
  {
   "cell_type": "raw",
   "metadata": {
    "ctype": "-na-",
    "lines_to_next_cell": 0
   },
   "source": [
    "\\newpage\n"
   ]
  },
  {
   "cell_type": "markdown",
   "metadata": {
    "ctype": "question",
    "lines_to_next_cell": 0,
    "qnum": 2
   },
   "source": [
    "Q2) The figure at right shows how $δ^{13}C$ changes with water\n",
    "    depth in the ocean, with “heavier” values in the surface water and\n",
    "    “lighter” values in the deeper water. Shells made by organisms\n",
    "    living at different water depths follow this pattern. What is the\n",
    "    dominant reason these data show this pattern?\n",
    "\n",
    "   (A)  Marine plants near the surface prefer to use $^{12}C$ in\n",
    "        photosynthesis, while marine plants in the deep ocean prefer to\n",
    "        use $^{13}C$ for photosynthesis.\n",
    "\n",
    "   (B)  The solubility pump preferentially takes $^{12}C$ from the\n",
    "        surface to the deep ocean when water sinks at locations where\n",
    "        deep water forms (like in the North Atlantic Ocean near\n",
    "        Greenland).\n",
    "\n",
    "   (C)  $^{13}C$ is heavier than $^{12}C$ and the heavier\n",
    "        isotope sinks from the surface ocean to the deep ocean.\n",
    "\n",
    "   (D)  $^{12}C$ evaporates more easily than $^{13}C$, so\n",
    "        the heavier isotope is left behind in the surface ocean by\n",
    "        evaporation of the lighter isotope.\n",
    "\n",
    "   (E)  The biological pump transfers relatively more $^{12}C$\n",
    "        from the surface to the deep ocean, leaving behind the heavier\n",
    "        $^{13}C$ isotope.\n"
   ]
  },
  {
   "cell_type": "markdown",
   "metadata": {
    "ctype": "answer",
    "key": "E",
    "qnum": 2
   },
   "source": [
    "Q2 Answer: E -- photosynthetic organisms use up $^{12}C$, which settles downwards in the water column as organisms excrete waste or die."
   ]
  },
  {
   "cell_type": "raw",
   "metadata": {},
   "source": [
    "\\newpage\n"
   ]
  },
  {
   "cell_type": "markdown",
   "metadata": {
    "ctype": "question",
    "lines_to_next_cell": 0,
    "qnum": 3
   },
   "source": [
    "Q3) Carbon cycle global annual fluxes to or from the modern atmosphere\n",
    "    are listed in alphabetical order: human emissions (fossil fuels,\n",
    "    cement, and land-use change), photosynthesis, volcanic emissions.\n",
    "    Rank each *source or sink* from largest to smallest **magnitude**.  \n",
    "      \n",
    "   (A) human emissions, photosynthesis, volcanic emissions  \n",
    "   (B) photosynthesis, human emissions, volcanic emissions  \n",
    "   (C) volcanic emissions, photosynthesis, human emissions  \n",
    "   (D) human emissions, volcanic emissions, photosynthesis  \n",
    "   (E) photosynthesis, volcanic emissions, human emissions  \n"
   ]
  },
  {
   "cell_type": "markdown",
   "metadata": {
    "ctype": "answer",
    "key": "B",
    "lines_to_next_cell": 0,
    "qnum": 3
   },
   "source": [
    "Q3 Answer: B -- Photosynthesis is a sink, but has the largest magnitude (about 120 GtC/year) and is balanced by respiration/decay. Human emissions are smaller (about 9 GtC/year), but provide a steady imbalance to the flux into the atmosphere. Volcanoes are a much slower, longer term source, at about 0.1-0.2 GtC/year."
   ]
  },
  {
   "cell_type": "raw",
   "metadata": {},
   "source": [
    "\\newpage\n"
   ]
  },
  {
   "cell_type": "markdown",
   "metadata": {
    "ctype": "question",
    "lines_to_next_cell": 0,
    "qnum": 4
   },
   "source": [
    "Q4) Based on your knowledge of physical-chemistry, which conditions \n",
    "    do you believe would lead to a lower pH in the oceans?\n",
    "\n",
    "   (A) decreasing $CO_2$, increasing atmospheric pressure,\n",
    "    increasing temperature\n",
    "\n",
    "   (B) increasing $CO_2$, increasing atmospheric pressure,\n",
    "    increasing temperature\n",
    "\n",
    "   (C) increasing $CO_2$, increasing atmospheric pressure,\n",
    "    decreasing temperature\n",
    "\n",
    "   (D) increasing $CO_2$, decreasing atmospheric pressure,\n",
    "    decreasing temperature\n",
    "\n",
    "   (E) decreasing $CO_2$, decreasing atmospheric pressure,\n",
    "    increasing temperature\n"
   ]
  },
  {
   "cell_type": "markdown",
   "metadata": {
    "ctype": "answer",
    "key": "C",
    "qnum": 4
   },
   "source": [
    "Q4 Answer: C -- Solubility of CO$_2$ increases with decreasing temperature and increasing CO$_2$ partial pressure. Partial pressure can be increased by increasing either total atmospheric pressure or atmospheric CO$_2$ concentration."
   ]
  },
  {
   "cell_type": "raw",
   "metadata": {},
   "source": [
    "\\newpage\n"
   ]
  },
  {
   "cell_type": "markdown",
   "metadata": {
    "ctype": "question",
    "lines_to_next_cell": 0,
    "qnum": 5
   },
   "source": [
    "Q5) During the Paleocene-Eocene Thermal Maximum (PETM) event, the\n",
    "    $δ^{13}$C values for carbon in the ocean got lighter by about\n",
    "    3 units, as shown in the figure. There is still debate about the\n",
    "    origin of the carbon that caused this shift. Of the choices, which\n",
    "    one would require the **fewest** gigatons of carbon to get a -3‰\n",
    "    shift in $δ^{13}$C?\n",
    "\n",
    "\n",
    "   (A) Methane with a $δ^{13}$C value of -60  \n",
    "   (B) Methane with a $δ^{13}$C value of -35  \n",
    "   (C) Organic carbon with a $δ^{13}$C value of -22  \n",
    "   (D) Fossil fuels with a $δ^{13}$C value of -22  \n",
    "   (E) $CO_{2}$ from volcanoes with a $δ^{13}$C value of -5\n"
   ]
  },
  {
   "cell_type": "markdown",
   "metadata": {
    "ctype": "answer",
    "key": "A",
    "lines_to_next_cell": 0,
    "qnum": 5
   },
   "source": [
    "Q5 Answer: A -- the most negative source value would have the largest effect per mass on the final $δ^{13}$C value."
   ]
  },
  {
   "cell_type": "raw",
   "metadata": {
    "lines_to_next_cell": 0
   },
   "source": [
    "\\newpage"
   ]
  },
  {
   "cell_type": "markdown",
   "metadata": {
    "ctype": "question",
    "lines_to_next_cell": 0,
    "qnum": 6
   },
   "source": [
    "Q6) Which of the following is **most likely** true regarding the \n",
    "    relationship between temperature and atmospheric CO$_2$ during \n",
    "    the last major deglaciation?\n",
    "\n",
    "   (A) CO$_2$ concentration **did not affect** temperatures \n",
    "    because it acted as a **feedback** rather than a forcing.  \n",
    "   (B) CO$_2$ concentration **rose prior to** the initial \n",
    "    temperature rise, and amplified the observed temperature \n",
    "    changes because it acted as a **feedback**.  \n",
    "   (C) CO$_2$ concentration **rose prior to** the initial \n",
    "    temperature rise, and amplified the observed temperature \n",
    "    changes because it acted as a **forcing**.  \n",
    "   (D) CO$_2$ concentration **rose after** the initial \n",
    "    temperature rise, and amplified the observed temperature\n",
    "    changes because it acted as a **feedback**.  \n",
    "   (E) CO$_2$ concentration **rose after** the initial \n",
    "    temperature rise, and amplified the observed temperature \n",
    "    changes because it acted as a **forcing**.\n"
   ]
  },
  {
   "cell_type": "markdown",
   "metadata": {
    "ctype": "answer",
    "key": "D",
    "lines_to_next_cell": 0,
    "qnum": 6
   },
   "source": [
    "Q6 Answer: D -- CO$_2$ lagged behind initial temperature rise, but likely amplified temperature changes due to the ocean solubility feedback."
   ]
  },
  {
   "cell_type": "raw",
   "metadata": {
    "lines_to_next_cell": 0
   },
   "source": [
    "\\newpage\n"
   ]
  },
  {
   "cell_type": "markdown",
   "metadata": {
    "ctype": "question",
    "lines_to_next_cell": 0,
    "qnum": 7
   },
   "source": [
    "Q7) Imagine we burn 2000 gigatonnes of carbon in the coming years.  By how much will the \n",
    " atmospheric concentration of CO2 increase?  Assume we burn everything instantaneously, \n",
    " that 45% of the emitted carbon stays in the atmosphere, and that today’s atmospheric \n",
    " CO2 concentration is 410 ppm.  Choose the closest answer.\n",
    " \n",
    "   (A) about 50 ppm                                           \n",
    "   (B) about 100 ppm                                           \n",
    "   (C) about 500 ppm                                           \n",
    "   (D) about 1000 ppm                                           \n",
    "   (E) about 2000 ppm                                           \n"
   ]
  },
  {
   "cell_type": "code",
   "execution_count": 1,
   "metadata": {
    "ctype": "answer",
    "key": "C",
    "qnum": 7
   },
   "outputs": [
    {
     "data": {
      "text/plain": [
       "428.57142857142856"
      ]
     },
     "execution_count": 1,
     "metadata": {},
     "output_type": "execute_result"
    }
   ],
   "source": [
    "# Q7 Answer: C -- 2000 GtC x 0.45/ (2.1 GtC/ppm) = 428 ppm\n",
    "# The final value would be 410+428 = 838 ppm, but you are asked by how much it increases.\n",
    "\n",
    "2000*0.45 / (2.1)"
   ]
  },
  {
   "cell_type": "markdown",
   "metadata": {
    "ctype": "question",
    "qnum": 8
   },
   "source": [
    "Q8) Below is a figure from the class slides showing the increase in\n",
    "    solar luminosity over time. Considering this change in\n",
    "    incoming solar radiation as a forcing, and considering the long-term\n",
    "    feedback that involves chemical weathering, temperature, and\n",
    "    atmospheric $CO_2$, why might global temperatures today be about the\n",
    "    same as 2 billion years ago, despite greater solar intensity today?\n",
    "    *Think long-term processes here.*  \n",
    " \n",
    "    \n",
    "   (A) Atmospheric $CO_2$ two billion years ago was most likely \n",
    "      **higher** than today, because **chemical weathering was**\n",
    "      **stronger** when the Sun was \n",
    "   (B) Atmospheric $CO_2$ two billion years ago was most likely \n",
    "      **higher** than today, because **chemical weathering was**\n",
    "      **weaker** when the Sun was more dim. \n",
    "   (C) Atmospheric $CO_2$ two billion years ago was most likely \n",
    "      **lower** than today, because **chemical weathering was**\n",
    "      **stronger** when the Sun was more dim.\n",
    "   (D) Atmospheric $CO_2$ two billion years ago was most likely \n",
    "      **lower** than today, because **chemical weathering was**\n",
    "      **weaker** when the Sun was more dim.\n",
    "   (E) Atmospheric $CO_2$ two billion years ago was most likely \n",
    "      **the same as** today, because **chemical weathering feedback**\n",
    "      **maintained concentrations** when the Sun was more dim.\n"
   ]
  },
  {
   "cell_type": "markdown",
   "metadata": {
    "ctype": "answer",
    "key": "B",
    "lines_to_next_cell": 0,
    "qnum": 8
   },
   "source": [
    "Q8 Answer: B -- as the sun gradually increased it's output, weathering rates also increased, drawing\n",
    "    down more CO$_2$ to maintain similar temperatures."
   ]
  },
  {
   "cell_type": "raw",
   "metadata": {
    "lines_to_next_cell": 0
   },
   "source": [
    "\\newpage\n"
   ]
  },
  {
   "cell_type": "markdown",
   "metadata": {
    "ctype": "question",
    "lines_to_next_cell": 0,
    "qnum": 9
   },
   "source": [
    "Q9) Suppose we wind up increasing the atmospheric $CO_2$ concentration from 280 ppm to 900 ppm before reaching zero net emission.  If the\n",
    "    equilibrium climate sensitivity is 5 K/doubling, approximately what is the final temperature increase we can expect above pre-industrial?\n",
    "    \n",
    "   (A) 5.5 K  \n",
    "   (B) 6.5 K  \n",
    "   (C) 7.5 K  \n",
    "   (D) 8.5 K  \n",
    "   (E) 9.5 K  "
   ]
  },
  {
   "cell_type": "code",
   "execution_count": 2,
   "metadata": {
    "ctype": "answer",
    "key": "D",
    "qnum": 9
   },
   "outputs": [
    {
     "name": "stdout",
     "output_type": "stream",
     "text": [
      "answer is D: 8.422490871360354 K, with doubling = 1.6844981742720708\n"
     ]
    }
   ],
   "source": [
    "import numpy as np\n",
    "doubling = np.log(900/280.)/np.log(2.)\n",
    "delT = doubling*5\n",
    "delT, doubling\n",
    "\n",
    "print(f\"answer is D: {delT} K, with doubling = {doubling}\")"
   ]
  },
  {
   "cell_type": "code",
   "execution_count": null,
   "metadata": {},
   "outputs": [],
   "source": []
  }
 ],
 "metadata": {
  "celltoolbar": "Edit Metadata",
  "jupytext": {
   "cell_metadata_filter": "all",
   "cell_metadata_json": true,
   "encoding": "# -*- coding: utf-8 -*-",
   "formats": "ipynb,py:percent",
   "notebook_metadata_filter": "all,-language_info,-toc,-latex_envs"
  },
  "kernelspec": {
   "display_name": "Python 3",
   "language": "python",
   "name": "python3"
  },
  "language_info": {
   "codemirror_mode": {
    "name": "ipython",
    "version": 3
   },
   "file_extension": ".py",
   "mimetype": "text/x-python",
   "name": "python",
   "nbconvert_exporter": "python",
   "pygments_lexer": "ipython3",
   "version": "3.7.3"
  },
  "latex_metadata": {
   "chead": "Quiz 4, VERSION A SOLUTIONS, 2019/11/19",
   "lhead": "EOSC 340"
  },
  "toc": {
   "base_numbering": 1,
   "nav_menu": {},
   "number_sections": true,
   "sideBar": true,
   "skip_h1_title": false,
   "title_cell": "Table of Contents",
   "title_sidebar": "Contents",
   "toc_cell": false,
   "toc_position": {},
   "toc_section_display": true,
   "toc_window_display": true
  }
 },
 "nbformat": 4,
 "nbformat_minor": 2
}
